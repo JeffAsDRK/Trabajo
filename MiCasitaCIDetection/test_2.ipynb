{
 "cells": [
  {
   "cell_type": "code",
   "execution_count": 2,
   "id": "4c4e3e7a",
   "metadata": {},
   "outputs": [
    {
     "name": "stdout",
     "output_type": "stream",
     "text": [
      "Total de imágenes válidas: 2470\n",
      "✅ División completada: train / val / test.\n"
     ]
    }
   ],
   "source": [
    "import os\n",
    "import random\n",
    "from pathlib import Path\n",
    "import shutil\n",
    "\n",
    "# Carpetas de origen\n",
    "IMAGES_DIR = Path(\"C:/Users/USER/Documents/Trabajo/Training_Cedulas/dataset/images\")\n",
    "LABELS_DIR = Path(\"C:/Users/USER/Documents/Trabajo/Training_Cedulas/dataset/labels\")\n",
    "\n",
    "# Porcentajes de división\n",
    "train_ratio = 0.6\n",
    "val_ratio = 0.4\n",
    "\n",
    "\n",
    "# Asegurarse de tener imágenes con su .txt correspondiente\n",
    "image_files = sorted([f for f in IMAGES_DIR.glob(\"*.*\") if f.suffix in ['.jpg', '.jpeg', '.png']])\n",
    "valid_files = [f for f in image_files if (LABELS_DIR / f.with_suffix(\".txt\").name).exists()]\n",
    "\n",
    "print(f\"Total de imágenes válidas: {len(valid_files)}\")\n",
    "\n",
    "# Mezclar aleatoriamente\n",
    "random.shuffle(valid_files)\n",
    "\n",
    "# Separar\n",
    "n = len(valid_files)\n",
    "train_files = valid_files[:int(n * train_ratio)]\n",
    "val_files = valid_files[int(n * train_ratio):int(n * (train_ratio + val_ratio))]\n",
    "\n",
    "\n",
    "splits = {\n",
    "    \"train\": train_files,\n",
    "    \"val\": val_files,\n",
    "   \n",
    "}\n",
    "\n",
    "# Crear carpetas destino\n",
    "for split in splits:\n",
    "    (IMAGES_DIR / split).mkdir(parents=True, exist_ok=True)\n",
    "    (LABELS_DIR / split).mkdir(parents=True, exist_ok=True)\n",
    "\n",
    "    for img_path in splits[split]:\n",
    "        label_path = LABELS_DIR / img_path.with_suffix(\".txt\").name\n",
    "        shutil.copy(img_path, IMAGES_DIR / split / img_path.name)\n",
    "        shutil.copy(label_path, LABELS_DIR / split / label_path.name)\n",
    "\n",
    "print(\"✅ División completada: train / val / test.\")"
   ]
  },
  {
   "cell_type": "code",
   "execution_count": 1,
   "id": "8d28ed95",
   "metadata": {},
   "outputs": [],
   "source": [
    "import os\n",
    "\n",
    "# Carpetas de etiquetas\n",
    "label_dirs = [\n",
    "    \"C:/Users/USER/Documents/Trabajo/Training_Cedulas/dataset/labels_id_names/train\",\n",
    "    \"C:/Users/USER/Documents/Trabajo/Training_Cedulas/dataset/labels_id_names/val\"\n",
    "]\n",
    "\n",
    "for label_dir in label_dirs:\n",
    "    for file_name in os.listdir(label_dir):\n",
    "        if file_name.endswith(\".txt\"):\n",
    "            file_path = os.path.join(label_dir, file_name)\n",
    "\n",
    "            with open(file_path, \"r\") as f:\n",
    "                lines = f.readlines()\n",
    "\n",
    "            new_lines = []\n",
    "            for line in lines:\n",
    "                if line.startswith(\"0 \"):\n",
    "                    continue  # Ignorar esta línea\n",
    "                # Reemplazos de etiquetas\n",
    "                line = line.replace(\"1 \", \"0 \").replace(\"2 \", \"0 \").replace(\"3 \", \"1 \")\n",
    "                new_lines.append(line)\n",
    "\n",
    "            with open(file_path, \"w\") as f:\n",
    "                f.writelines(new_lines)"
   ]
  },
  {
   "cell_type": "code",
   "execution_count": 5,
   "id": "0878c533",
   "metadata": {},
   "outputs": [
    {
     "ename": "NameError",
     "evalue": "name 'a' is not defined",
     "output_type": "error",
     "traceback": [
      "\u001b[31m---------------------------------------------------------------------------\u001b[39m",
      "\u001b[31mNameError\u001b[39m                                 Traceback (most recent call last)",
      "\u001b[36mCell\u001b[39m\u001b[36m \u001b[39m\u001b[32mIn[5]\u001b[39m\u001b[32m, line 1\u001b[39m\n\u001b[32m----> \u001b[39m\u001b[32m1\u001b[39m \u001b[43ma\u001b[49m\n\u001b[32m      2\u001b[39m \u001b[38;5;28;01mfrom\u001b[39;00m\u001b[38;5;250m \u001b[39m\u001b[34;01multralytics\u001b[39;00m\u001b[38;5;250m \u001b[39m\u001b[38;5;28;01mimport\u001b[39;00m YOLO\n\u001b[32m      3\u001b[39m \u001b[38;5;28;01mfrom\u001b[39;00m\u001b[38;5;250m \u001b[39m\u001b[34;01mPIL\u001b[39;00m\u001b[38;5;250m \u001b[39m\u001b[38;5;28;01mimport\u001b[39;00m Image\n",
      "\u001b[31mNameError\u001b[39m: name 'a' is not defined"
     ]
    }
   ],
   "source": [
    "a\n",
    "from ultralytics import YOLO\n",
    "from PIL import Image\n",
    "import matplotlib.pyplot as plt\n",
    "import numpy as np \n",
    "# Cargar el modelo YOLO (puede ser 'yolov8n.pt' o tu modelo personalizado)\n",
    "#model = YOLO(\"E:/Users/Documents/Trabajo/MiCasitaCIDetection/best_v8n_obb.pt\")  # Cambia por \"runs/detect/train/weights/best.pt\"\n",
    "model = YOLO(\"E:/Users/Documents/Trabajo/MiCasitaCIDetection/best_v11n_obb.pt\")  # Cambia por \"runs/detect/train/weights/best.pt\"\n",
    "\n",
    "# Tipo de fuente\n",
    "SOURCE_TYPE = \"image\"  # Opciones: \"image\"\n",
    "SOURCE_PATH = \"C:/Users/USER/Documents/Trabajo/Cedulas/imagenes_cedula_peq/Otros/ImagenCedula_0iJH6H4.jpg\"  # Ruta de la imagen\n",
    "#SOURCE_PATH = \"E:/Users/Documents/Trabajo/Cedulas/imagenes_cedula_peq/Otros/ImagenCedula_21yKmKp.jpg\"  # Ruta de la imagen\n",
    "\n",
    "if SOURCE_TYPE == \"image\":\n",
    "    # Cargar imagen con PIL\n",
    "    image = Image.open(SOURCE_PATH).convert(\"RGB\")#.rotate(90)\n",
    "\n",
    "    # Realizar inferencia\n",
    "    results = model(image)\n",
    "\n",
    "    # Mostrar resultados usando PIL\n",
    "    for result in results:\n",
    "        # result.plot() devuelve una imagen NumPy (BGR), la convertimos a RGB para PIL\n",
    "        img_array = result.plot()[:, :, ::-1]\n",
    "        data=result.obb.xywhr.cpu().numpy()\n",
    "        print(data)\n",
    "        print(np.degrees(data[1][-1]))\n",
    "        result_image = Image.fromarray(img_array)#.rotate(np.degrees(data[1][-1]))\n",
    "        # Mostrar usando matplotlib\n",
    "        plt.imshow(result_image)\n",
    "        plt.axis('off')\n",
    "        plt.title(\"YOLO11 - Resultado\")\n",
    "        plt.show()\n"
   ]
  }
 ],
 "metadata": {
  "kernelspec": {
   "display_name": "trabajo",
   "language": "python",
   "name": "python3"
  },
  "language_info": {
   "codemirror_mode": {
    "name": "ipython",
    "version": 3
   },
   "file_extension": ".py",
   "mimetype": "text/x-python",
   "name": "python",
   "nbconvert_exporter": "python",
   "pygments_lexer": "ipython3",
   "version": "3.11.13"
  }
 },
 "nbformat": 4,
 "nbformat_minor": 5
}
